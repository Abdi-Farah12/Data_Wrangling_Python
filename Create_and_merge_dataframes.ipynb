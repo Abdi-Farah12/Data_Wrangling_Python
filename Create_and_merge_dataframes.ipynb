{
 "cells": [
  {
   "cell_type": "markdown",
   "id": "444261fd",
   "metadata": {},
   "source": [
    "## Create and merge the DataFrames"
   ]
  },
  {
   "cell_type": "markdown",
   "id": "ee728ab8",
   "metadata": {},
   "source": [
    "\n",
    "This analysis uses the **movies_merge.xlsx** and **ott_merge.csv** data sets. Our objectives at this stage are to prepare for analysis by:\n",
    "\n",
    "- Importing the CSV files into DataFrames.\n",
    "- Viewing the DataFrames.\n",
    "- Describing the DataFrames to understand the structures and data types. \n",
    "- Merging the two DataFrames into a single DataFrame.\n",
    "\n",
    "The insights gained from the analysis will inform the campaign, promotional materials, slogans, and language the political party will use to reach potential voters."
   ]
  },
  {
   "cell_type": "markdown",
   "id": "2f8287f5",
   "metadata": {},
   "source": [
    "## 1. Import Pandas"
   ]
  },
  {
   "cell_type": "code",
   "execution_count": 1,
   "id": "1db3c642",
   "metadata": {},
   "outputs": [],
   "source": [
    "#import necessary packages\n",
    "import pandas as pd"
   ]
  },
  {
   "cell_type": "markdown",
   "id": "955f5128",
   "metadata": {},
   "source": [
    "## 2. Import Excel file"
   ]
  },
  {
   "cell_type": "code",
   "execution_count": 2,
   "id": "d76a67dd",
   "metadata": {},
   "outputs": [
    {
     "name": "stdout",
     "output_type": "stream",
     "text": [
      "Index(['ID', 'Title', 'Year', 'Age', 'IMDb', 'Rotten Tomatoes', 'Directors',\n",
      "       'Genres', 'Country', 'Language', 'Runtime'],\n",
      "      dtype='object')\n"
     ]
    }
   ],
   "source": [
    "#Load the excel data using pd.read_excel\n",
    "movies = pd.read_excel(\"movies_merge.xlsx\")\n",
    "\n",
    "print(movies.columns)"
   ]
  },
  {
   "cell_type": "markdown",
   "id": "a33a6afa",
   "metadata": {},
   "source": [
    "## 3. Import CSV file"
   ]
  },
  {
   "cell_type": "code",
   "execution_count": 3,
   "id": "9007f60b",
   "metadata": {},
   "outputs": [
    {
     "name": "stdout",
     "output_type": "stream",
     "text": [
      "Index(['ID', 'Netflix', 'Hulu', 'Prime Video', 'Disney+'], dtype='object')\n"
     ]
    }
   ],
   "source": [
    "#Load the csv data using pd.read_csv\n",
    "ott = pd.read_csv(\"ott_merge.csv\")\n",
    "\n",
    "print(ott.columns)"
   ]
  },
  {
   "cell_type": "markdown",
   "id": "e82d3c42",
   "metadata": {},
   "source": [
    "## 4. Validate the DataFrames"
   ]
  },
  {
   "cell_type": "code",
   "execution_count": 4,
   "id": "ad14c88e",
   "metadata": {},
   "outputs": [
    {
     "name": "stdout",
     "output_type": "stream",
     "text": [
      "   ID                           Title  Year  Age  IMDb  Rotten Tomatoes  \\\n",
      "0   1                       Inception  2010  13+   8.8             0.87   \n",
      "1   2                      The Matrix  1999  18+   8.7             0.87   \n",
      "2   3          Avengers: Infinity War  2018  13+   8.5             0.84   \n",
      "3   4              Back to the Future  1985   7+   8.5             0.96   \n",
      "4   5  The Good, the Bad and the Ugly  1966  18+   8.8             0.97   \n",
      "\n",
      "                        Directors                            Genres  \\\n",
      "0               Christopher Nolan  Action,Adventure,Sci-Fi,Thriller   \n",
      "1  Lana Wachowski,Lilly Wachowski                     Action,Sci-Fi   \n",
      "2         Anthony Russo,Joe Russo           Action,Adventure,Sci-Fi   \n",
      "3                 Robert Zemeckis           Adventure,Comedy,Sci-Fi   \n",
      "4                    Sergio Leone                           Western   \n",
      "\n",
      "                        Country                 Language  Runtime  \n",
      "0  United States,United Kingdom  English,Japanese,French    148.0  \n",
      "1                 United States                  English    136.0  \n",
      "2                 United States                  English    149.0  \n",
      "3                 United States                  English    116.0  \n",
      "4      Italy,Spain,West Germany                  Italian    161.0  \n",
      "(16744, 11)\n"
     ]
    }
   ],
   "source": [
    "# data imported correctly?\n",
    "print(movies.head())\n",
    "print(movies.shape)"
   ]
  },
  {
   "cell_type": "code",
   "execution_count": 5,
   "id": "1fdf8f96",
   "metadata": {},
   "outputs": [
    {
     "name": "stdout",
     "output_type": "stream",
     "text": [
      "   ID  Netflix  Hulu  Prime Video  Disney+\n",
      "0   1        0     0            1        0\n",
      "1   2        0     1            0        0\n",
      "2   3        0     0            1        0\n",
      "3   4        1     0            0        0\n",
      "4   5        0     0            1        0\n",
      "(16744, 5)\n"
     ]
    }
   ],
   "source": [
    "# data imported correctly?\n",
    "print(ott.head())\n",
    "print(ott.shape)"
   ]
  },
  {
   "cell_type": "markdown",
   "id": "9a3d0365",
   "metadata": {},
   "source": [
    "## 5. Describe the data types"
   ]
  },
  {
   "cell_type": "code",
   "execution_count": 6,
   "id": "3fa5be83",
   "metadata": {},
   "outputs": [
    {
     "name": "stdout",
     "output_type": "stream",
     "text": [
      "ID             int64\n",
      "Netflix        int64\n",
      "Hulu           int64\n",
      "Prime Video    int64\n",
      "Disney+        int64\n",
      "dtype: object\n",
      "ID                   int64\n",
      "Title               object\n",
      "Year                 int64\n",
      "Age                 object\n",
      "IMDb               float64\n",
      "Rotten Tomatoes    float64\n",
      "Directors           object\n",
      "Genres              object\n",
      "Country             object\n",
      "Language            object\n",
      "Runtime            float64\n",
      "dtype: object\n"
     ]
    }
   ],
   "source": [
    "# data types\n",
    "print(ott.dtypes)\n",
    "print(movies.dtypes)"
   ]
  },
  {
   "cell_type": "markdown",
   "id": "0678caa3",
   "metadata": {},
   "source": [
    "## 6. Combine the two DataFrames\n",
    "### a) merge()"
   ]
  },
  {
   "cell_type": "code",
   "execution_count": 7,
   "id": "d25ec126",
   "metadata": {},
   "outputs": [
    {
     "name": "stdout",
     "output_type": "stream",
     "text": [
      "   ID                           Title  Year  Age  IMDb  Rotten Tomatoes  \\\n",
      "0   1                       Inception  2010  13+   8.8             0.87   \n",
      "1   2                      The Matrix  1999  18+   8.7             0.87   \n",
      "2   3          Avengers: Infinity War  2018  13+   8.5             0.84   \n",
      "3   4              Back to the Future  1985   7+   8.5             0.96   \n",
      "4   5  The Good, the Bad and the Ugly  1966  18+   8.8             0.97   \n",
      "\n",
      "                        Directors                            Genres  \\\n",
      "0               Christopher Nolan  Action,Adventure,Sci-Fi,Thriller   \n",
      "1  Lana Wachowski,Lilly Wachowski                     Action,Sci-Fi   \n",
      "2         Anthony Russo,Joe Russo           Action,Adventure,Sci-Fi   \n",
      "3                 Robert Zemeckis           Adventure,Comedy,Sci-Fi   \n",
      "4                    Sergio Leone                           Western   \n",
      "\n",
      "                        Country                 Language  Runtime  Netflix  \\\n",
      "0  United States,United Kingdom  English,Japanese,French    148.0        0   \n",
      "1                 United States                  English    136.0        0   \n",
      "2                 United States                  English    149.0        0   \n",
      "3                 United States                  English    116.0        1   \n",
      "4      Italy,Spain,West Germany                  Italian    161.0        0   \n",
      "\n",
      "   Hulu  Prime Video  Disney+  \n",
      "0     0            1        0  \n",
      "1     1            0        0  \n",
      "2     0            1        0  \n",
      "3     0            0        0  \n",
      "4     0            1        0  \n",
      "(16744, 15)\n"
     ]
    }
   ],
   "source": [
    "#merge the data\n",
    "df_mov_ott = pd.merge(movies, ott, how='left', on = \"ID\")\n",
    "\n",
    "print(df_mov_ott.head())\n",
    "print(df_mov_ott.shape)"
   ]
  },
  {
   "cell_type": "markdown",
   "id": "5375a5d9",
   "metadata": {},
   "source": [
    "### b) concat()"
   ]
  },
  {
   "cell_type": "code",
   "execution_count": 8,
   "id": "2ff5487d",
   "metadata": {},
   "outputs": [
    {
     "name": "stdout",
     "output_type": "stream",
     "text": [
      "   ID                           Title    Year  Age  IMDb  Rotten Tomatoes  \\\n",
      "0   1                       Inception  2010.0  13+   8.8             0.87   \n",
      "1   2                      The Matrix  1999.0  18+   8.7             0.87   \n",
      "2   3          Avengers: Infinity War  2018.0  13+   8.5             0.84   \n",
      "3   4              Back to the Future  1985.0   7+   8.5             0.96   \n",
      "4   5  The Good, the Bad and the Ugly  1966.0  18+   8.8             0.97   \n",
      "\n",
      "                        Directors                            Genres  \\\n",
      "0               Christopher Nolan  Action,Adventure,Sci-Fi,Thriller   \n",
      "1  Lana Wachowski,Lilly Wachowski                     Action,Sci-Fi   \n",
      "2         Anthony Russo,Joe Russo           Action,Adventure,Sci-Fi   \n",
      "3                 Robert Zemeckis           Adventure,Comedy,Sci-Fi   \n",
      "4                    Sergio Leone                           Western   \n",
      "\n",
      "                        Country                 Language  Runtime  Netflix  \\\n",
      "0  United States,United Kingdom  English,Japanese,French    148.0      NaN   \n",
      "1                 United States                  English    136.0      NaN   \n",
      "2                 United States                  English    149.0      NaN   \n",
      "3                 United States                  English    116.0      NaN   \n",
      "4      Italy,Spain,West Germany                  Italian    161.0      NaN   \n",
      "\n",
      "   Hulu  Prime Video  Disney+  \n",
      "0   NaN          NaN      NaN  \n",
      "1   NaN          NaN      NaN  \n",
      "2   NaN          NaN      NaN  \n",
      "3   NaN          NaN      NaN  \n",
      "4   NaN          NaN      NaN  \n",
      "(33488, 15)\n"
     ]
    }
   ],
   "source": [
    "# concat data frames\n",
    "mov_ott_concat = pd.concat([movies, ott], axis=0)\n",
    "\n",
    "print(mov_ott_concat.head())\n",
    "print(mov_ott_concat.shape)"
   ]
  },
  {
   "cell_type": "markdown",
   "id": "091f90ed",
   "metadata": {},
   "source": [
    "### c) append()"
   ]
  },
  {
   "cell_type": "code",
   "execution_count": 9,
   "id": "4522612f",
   "metadata": {},
   "outputs": [
    {
     "name": "stdout",
     "output_type": "stream",
     "text": [
      "   ID                           Title    Year  Age  IMDb  Rotten Tomatoes  \\\n",
      "0   1                       Inception  2010.0  13+   8.8             0.87   \n",
      "1   2                      The Matrix  1999.0  18+   8.7             0.87   \n",
      "2   3          Avengers: Infinity War  2018.0  13+   8.5             0.84   \n",
      "3   4              Back to the Future  1985.0   7+   8.5             0.96   \n",
      "4   5  The Good, the Bad and the Ugly  1966.0  18+   8.8             0.97   \n",
      "\n",
      "                        Directors                            Genres  \\\n",
      "0               Christopher Nolan  Action,Adventure,Sci-Fi,Thriller   \n",
      "1  Lana Wachowski,Lilly Wachowski                     Action,Sci-Fi   \n",
      "2         Anthony Russo,Joe Russo           Action,Adventure,Sci-Fi   \n",
      "3                 Robert Zemeckis           Adventure,Comedy,Sci-Fi   \n",
      "4                    Sergio Leone                           Western   \n",
      "\n",
      "                        Country                 Language  Runtime  Netflix  \\\n",
      "0  United States,United Kingdom  English,Japanese,French    148.0      NaN   \n",
      "1                 United States                  English    136.0      NaN   \n",
      "2                 United States                  English    149.0      NaN   \n",
      "3                 United States                  English    116.0      NaN   \n",
      "4      Italy,Spain,West Germany                  Italian    161.0      NaN   \n",
      "\n",
      "   Hulu  Prime Video  Disney+  \n",
      "0   NaN          NaN      NaN  \n",
      "1   NaN          NaN      NaN  \n",
      "2   NaN          NaN      NaN  \n",
      "3   NaN          NaN      NaN  \n",
      "4   NaN          NaN      NaN  \n",
      "(33488, 15)\n"
     ]
    }
   ],
   "source": [
    "# append data frames\n",
    "mov_ott_append = movies.append(ott)\n",
    "\n",
    "print(mov_ott_append.head())\n",
    "print(mov_ott_append.shape)"
   ]
  },
  {
   "cell_type": "code",
   "execution_count": null,
   "id": "1a82860f",
   "metadata": {},
   "outputs": [],
   "source": []
  }
 ],
 "metadata": {
  "kernelspec": {
   "display_name": "Python 3 (ipykernel)",
   "language": "python",
   "name": "python3"
  },
  "language_info": {
   "codemirror_mode": {
    "name": "ipython",
    "version": 3
   },
   "file_extension": ".py",
   "mimetype": "text/x-python",
   "name": "python",
   "nbconvert_exporter": "python",
   "pygments_lexer": "ipython3",
   "version": "3.9.7"
  }
 },
 "nbformat": 4,
 "nbformat_minor": 5
}
