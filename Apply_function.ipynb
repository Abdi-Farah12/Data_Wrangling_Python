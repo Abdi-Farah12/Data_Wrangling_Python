{
 "cells": [
  {
   "cell_type": "markdown",
   "metadata": {},
   "source": [
    "##  Apply() function"
   ]
  },
  {
   "cell_type": "markdown",
   "metadata": {},
   "source": [
    "\n",
    "\n",
    "This analysis uses the **movies_merge.xlsx** and **ott_merge.csv** data sets. To help the political party decide how they might best invest their budget, weMandisa will answer the following business questions:\n",
    "\n",
    "- What is the effect of adding 60 seconds (1 minute) to each movie?\n",
    "- Which movies are documentaries?\n",
    "\n",
    "The insights gained from the analysis will inform the campaign, promotional materials, slogans, and language the political party will use to reach potential voters."
   ]
  },
  {
   "cell_type": "markdown",
   "metadata": {},
   "source": [
    "### Prepare your workstation"
   ]
  },
  {
   "cell_type": "code",
   "execution_count": null,
   "metadata": {},
   "outputs": [],
   "source": [
    "# import pandas\n",
    "import pandas as pd\n",
    "import numpy as np\n",
    "\n",
    "# load the excel data using pd.read_excel\n",
    "movies = pd.read_excel(\"movies_merge.xlsx\")\n",
    "\n",
    "# load the csv data using pd.read_csv\n",
    "ott = pd.read_csv(\"ott_merge.csv\")\n",
    "\n",
    "# data imported correctly?\n",
    "print(movies.columns)\n",
    "print(movies.shape)\n",
    "print(ott.columns)\n",
    "print(ott.shape)\n",
    "\n",
    "#merge the data\n",
    "mov_ott = pd.merge(movies, ott, how='left', on = \"ID\")\n",
    "\n",
    "# DataFrames merged correctly?\n",
    "print(mov_ott.columns)\n",
    "print(mov_ott.shape)"
   ]
  },
  {
   "cell_type": "markdown",
   "metadata": {},
   "source": [
    "# "
   ]
  },
  {
   "cell_type": "markdown",
   "metadata": {},
   "source": [
    "## Question 1: What is the effect of adding 60 seconds (1 minute) to each movie?"
   ]
  },
  {
   "cell_type": "code",
   "execution_count": null,
   "metadata": {},
   "outputs": [],
   "source": [
    "# determine the runtime of each movie\n",
    "mov_ott_runtime = mov_ott[['ID', 'Runtime', 'Genres']]\n",
    "\n",
    "mov_ott_runtime"
   ]
  },
  {
   "cell_type": "code",
   "execution_count": null,
   "metadata": {},
   "outputs": [],
   "source": [
    "# add 60 seconds or 1 minute to runtime\n",
    "mov_ott_runtime['Runtime'].add(1)"
   ]
  },
  {
   "cell_type": "markdown",
   "metadata": {},
   "source": [
    "# "
   ]
  },
  {
   "cell_type": "markdown",
   "metadata": {},
   "source": [
    "## Question 2: Which movies are documentaries?"
   ]
  },
  {
   "cell_type": "code",
   "execution_count": null,
   "metadata": {},
   "outputs": [],
   "source": [
    "#create a new column with doc\n",
    "mov_ott_runtime['Gen_doc'] = np.where(mov_ott_runtime['Genres'].str.contains('Documentary'),\n",
    "                                      'Documentary', \"Not Documentary\")\n",
    "\n",
    "mov_ott_runtime"
   ]
  },
  {
   "cell_type": "code",
   "execution_count": null,
   "metadata": {},
   "outputs": [],
   "source": [
    "# applymap (determine length of string)\n",
    "mov_ott_runtime.Gen_doc.apply(len)"
   ]
  },
  {
   "cell_type": "markdown",
   "metadata": {},
   "source": [
    "# "
   ]
  },
  {
   "cell_type": "markdown",
   "metadata": {},
   "source": [
    "## Challenge"
   ]
  },
  {
   "cell_type": "code",
   "execution_count": null,
   "metadata": {},
   "outputs": [],
   "source": [
    "#substract 0.01 min from runtime\n",
    "mov_ott_runtime[['ID', 'Runtime']]"
   ]
  },
  {
   "cell_type": "code",
   "execution_count": null,
   "metadata": {},
   "outputs": [],
   "source": [
    "# subtract 0.01 from runtime\n",
    "mov_ott_runtime['Runtime'].subtract(0.01)"
   ]
  },
  {
   "cell_type": "markdown",
   "metadata": {},
   "source": [
    "### Try these lambda functions"
   ]
  },
  {
   "cell_type": "code",
   "execution_count": null,
   "metadata": {},
   "outputs": [],
   "source": [
    "# add 60 seconds or one minute with lambda function\n",
    "mov_ott['Runtime'] = df_mov_ott['Runtime'].apply(lambda x: x + 1)"
   ]
  },
  {
   "cell_type": "code",
   "execution_count": null,
   "metadata": {},
   "outputs": [],
   "source": [
    "# subtract 0.01 from runtime with lamda function\n",
    "mov_ott['Runtime'] = mov_ott_runtime['Runtime'].apply(lambda x: x - 0.01)"
   ]
  }
 ],
 "metadata": {
  "kernelspec": {
   "display_name": "Python 3 (ipykernel)",
   "language": "python",
   "name": "python3"
  },
  "language_info": {
   "codemirror_mode": {
    "name": "ipython",
    "version": 3
   },
   "file_extension": ".py",
   "mimetype": "text/x-python",
   "name": "python",
   "nbconvert_exporter": "python",
   "pygments_lexer": "ipython3",
   "version": "3.9.7"
  }
 },
 "nbformat": 4,
 "nbformat_minor": 4
}
