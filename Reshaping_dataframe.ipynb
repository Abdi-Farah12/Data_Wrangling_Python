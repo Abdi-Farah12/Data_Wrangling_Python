{
 "cells": [
  {
   "cell_type": "markdown",
   "id": "149f3613",
   "metadata": {},
   "source": [
    "## Reshaping a DataFrame"
   ]
  },
  {
   "cell_type": "markdown",
   "id": "1f868765",
   "metadata": {},
   "source": [
    "\n",
    "\n",
    "This analysis uses the **movies_merge.xlsx** and **ott_merge.csv** data sets. Using the pivot() function, we will organise the DataFrame by:\n",
    "\n",
    "- the film release date and content rating.\n",
    "- the title of movies, the directors, and genres by content rating.\n",
    "- the title of movies, the released year, and language by content rating.\n",
    "- Netflix screened movies based on language, runtime, and country.\n",
    "- the title of movies, specified language, potential runtime, and genres by content rating.\n",
    "\n",
    "The insights gained from the analysis will inform the campaign, promotional materials, slogans, and language the political party will use to reach potential voters."
   ]
  },
  {
   "cell_type": "markdown",
   "id": "ef186355",
   "metadata": {},
   "source": [
    "## Prepare your workstation"
   ]
  },
  {
   "cell_type": "code",
   "execution_count": null,
   "id": "9658ab67",
   "metadata": {},
   "outputs": [],
   "source": [
    "# import pandas\n",
    "import pandas as pd\n",
    "\n",
    "# load the excel data using pd.read_excel\n",
    "movies = pd.read_excel(\"movies_merge.xlsx\")\n",
    "\n",
    "# load the csv data using pd.read_csv\n",
    "ott = pd.read_csv(\"ott_merge.csv\")\n",
    "\n",
    "# data imported correctly?\n",
    "print(movies.columns)\n",
    "print(movies.shape)\n",
    "print(ott.columns)\n",
    "print(ott.shape)\n",
    "\n",
    "#merge the data\n",
    "mov_ott = pd.merge(movies, ott, how='left', on = \"ID\")\n",
    "\n",
    "# DataFrames merged correctly?\n",
    "print(mov_ott.columns)\n",
    "print(mov_ott.shape)"
   ]
  },
  {
   "cell_type": "code",
   "execution_count": null,
   "id": "6aa553cf",
   "metadata": {
    "scrolled": true
   },
   "outputs": [],
   "source": [
    "# view data frame\n",
    "mov_ott"
   ]
  },
  {
   "cell_type": "markdown",
   "id": "08b567cd",
   "metadata": {},
   "source": [
    "## 1: The film release date and content rating"
   ]
  },
  {
   "cell_type": "code",
   "execution_count": null,
   "id": "a66f01a8",
   "metadata": {},
   "outputs": [],
   "source": [
    "# Determine movies per year and age group\n",
    "movies.pivot(index='Title', columns='Age', \n",
    "             values='Year')"
   ]
  },
  {
   "cell_type": "markdown",
   "id": "f9cfc231",
   "metadata": {},
   "source": [
    "## 2: The title of movies, the directors, and genres by content rating"
   ]
  },
  {
   "cell_type": "code",
   "execution_count": null,
   "id": "744cdd5b",
   "metadata": {},
   "outputs": [],
   "source": [
    "# Determine movies, directors and genres per age group\n",
    "movies.pivot(index='Title', columns='Age', \n",
    "             values=['Directors', 'Genres'])"
   ]
  },
  {
   "cell_type": "markdown",
   "id": "8c470027",
   "metadata": {},
   "source": [
    "## 3: The title of movies, the released year, and language by content rating"
   ]
  },
  {
   "cell_type": "code",
   "execution_count": null,
   "id": "0ec6e8b9",
   "metadata": {},
   "outputs": [],
   "source": [
    "# Determine movies, year and language per age group\n",
    "movies.pivot(index='Title', columns='Age', \n",
    "             values=['Year', 'Language'])"
   ]
  },
  {
   "cell_type": "markdown",
   "id": "1794810b",
   "metadata": {},
   "source": [
    "## 4: Netflix screened movies based on language, runtime, and country"
   ]
  },
  {
   "cell_type": "code",
   "execution_count": null,
   "id": "fa2109b5",
   "metadata": {},
   "outputs": [],
   "source": [
    "# Determine the movies, language, runtime and country screened by Netflix\n",
    "mov_ott.pivot(index='Title', columns='Netflix', \n",
    "              values=['Language', 'Runtime', 'Country'])"
   ]
  },
  {
   "cell_type": "markdown",
   "id": "c6d51e0d",
   "metadata": {},
   "source": [
    "## 5: The title of movies, specified language, potential runtime, and genres by content rating"
   ]
  },
  {
   "cell_type": "code",
   "execution_count": null,
   "id": "19396422",
   "metadata": {},
   "outputs": [],
   "source": [
    "# Determine the movies, language, runtime, and genres per age group\n",
    "mov_ott.pivot(index='Title', columns='Age', \n",
    "              values=['Language', 'Runtime','Genres'])"
   ]
  }
 ],
 "metadata": {
  "kernelspec": {
   "display_name": "Python 3 (ipykernel)",
   "language": "python",
   "name": "python3"
  },
  "language_info": {
   "codemirror_mode": {
    "name": "ipython",
    "version": 3
   },
   "file_extension": ".py",
   "mimetype": "text/x-python",
   "name": "python",
   "nbconvert_exporter": "python",
   "pygments_lexer": "ipython3",
   "version": "3.9.7"
  }
 },
 "nbformat": 4,
 "nbformat_minor": 5
}
